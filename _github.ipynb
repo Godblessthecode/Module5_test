{
 "cells": [
  {
   "cell_type": "markdown",
   "metadata": {},
   "source": [
    "Question 1 - Extracting Tesla Stock Data Using yfinance - 2 Points"
   ]
  },
  {
   "cell_type": "code",
   "execution_count": 1,
   "metadata": {},
   "outputs": [
    {
     "name": "stdout",
     "output_type": "stream",
     "text": [
      "Stock Data for Tesla (first 5 rows):\n",
      "                       Date      Open      High       Low     Close  \\\n",
      "0 2010-06-29 00:00:00-04:00  1.266667  1.666667  1.169333  1.592667   \n",
      "1 2010-06-30 00:00:00-04:00  1.719333  2.028000  1.553333  1.588667   \n",
      "2 2010-07-01 00:00:00-04:00  1.666667  1.728000  1.351333  1.464000   \n",
      "3 2010-07-02 00:00:00-04:00  1.533333  1.540000  1.247333  1.280000   \n",
      "4 2010-07-06 00:00:00-04:00  1.333333  1.333333  1.055333  1.074000   \n",
      "\n",
      "      Volume  Dividends  Stock Splits  \n",
      "0  281494500        0.0           0.0  \n",
      "1  257806500        0.0           0.0  \n",
      "2  123282000        0.0           0.0  \n",
      "3   77097000        0.0           0.0  \n",
      "4  103003500        0.0           0.0  \n"
     ]
    }
   ],
   "source": [
    "import yfinance as yf\n",
    "import pandas as pd\n",
    "import requests\n",
    "import warnings\n",
    "warnings.filterwarnings(\"ignore\", category=FutureWarning)\n",
    "warnings.simplefilter(\"ignore\")\n",
    "from bs4 import BeautifulSoup\n",
    "import plotly.graph_objects as go\n",
    "from plotly.subplots import make_subplots\n",
    "import plotly.io as pio\n",
    "pio.renderers.default = \"browser\"\n",
    "\n",
    "tesla = yf.Ticker(\"TSLA\")\n",
    "stock_data = tesla.history(period=\"max\")\n",
    "stock_data.reset_index(inplace=True)\n",
    "print(\"Stock Data for Tesla (first 5 rows):\")\n",
    "print(stock_data.head())"
   ]
  },
  {
   "cell_type": "markdown",
   "metadata": {},
   "source": [
    "Question 2 - Extracting Tesla Revenue Data Using Webscraping - 1 Points"
   ]
  },
  {
   "cell_type": "code",
   "execution_count": 2,
   "metadata": {},
   "outputs": [
    {
     "name": "stdout",
     "output_type": "stream",
     "text": [
      "Total rows scraped: 13\n",
      "    Date Revenue\n",
      "8   2013  $2,013\n",
      "9   2012    $413\n",
      "10  2011    $204\n",
      "11  2010    $117\n",
      "12  2009    $112\n"
     ]
    }
   ],
   "source": [
    "url = \"https://cf-courses-data.s3.us.cloud-object-storage.appdomain.cloud/IBMDeveloperSkillsNetwork-PY0220EN-SkillsNetwork/labs/project/revenue.htm\"\n",
    "html_data = requests.get(url).text\n",
    "soup = BeautifulSoup(html_data, 'html.parser')\n",
    "columns = [\"Date\", \"Revenue\"]\n",
    "tesla_data = pd.DataFrame(columns=columns)\n",
    "table = soup.find(\"table\")\n",
    "rows = table.find_all(\"tr\")\n",
    "for row in rows:\n",
    "    cols = row.find_all(\"td\")\n",
    "    if len(cols) == 2:\n",
    "        data = {\n",
    "            \"Date\": cols[0].text.strip(),\n",
    "            \"Revenue\": cols[1].text.strip()\n",
    "        }\n",
    "        tesla_data = pd.concat([tesla_data, pd.DataFrame([data])], ignore_index=True)\n",
    "print(f\"Total rows scraped: {len(tesla_data)}\")\n",
    "print(tesla_data.tail())  "
   ]
  },
  {
   "cell_type": "markdown",
   "metadata": {},
   "source": [
    "Question 3 - Extracting GameStop Stock Data Using yfinance - 2 Points"
   ]
  },
  {
   "cell_type": "code",
   "execution_count": 3,
   "metadata": {},
   "outputs": [
    {
     "name": "stdout",
     "output_type": "stream",
     "text": [
      "Stock Data for GME (first 5 rows):\n",
      "                       Date      Open      High       Low     Close    Volume  \\\n",
      "0 2002-02-13 00:00:00-05:00  1.620128  1.693350  1.603296  1.691666  76216000   \n",
      "1 2002-02-14 00:00:00-05:00  1.712707  1.716074  1.670626  1.683250  11021600   \n",
      "2 2002-02-15 00:00:00-05:00  1.683251  1.687459  1.658002  1.674834   8389600   \n",
      "3 2002-02-19 00:00:00-05:00  1.666418  1.666418  1.578047  1.607504   7410400   \n",
      "4 2002-02-20 00:00:00-05:00  1.615921  1.662210  1.603296  1.662210   6892800   \n",
      "\n",
      "   Dividends  Stock Splits  \n",
      "0        0.0           0.0  \n",
      "1        0.0           0.0  \n",
      "2        0.0           0.0  \n",
      "3        0.0           0.0  \n",
      "4        0.0           0.0  \n"
     ]
    }
   ],
   "source": [
    "tesla = yf.Ticker(\"GME\")\n",
    "stock_data_gme = tesla.history(period=\"max\")\n",
    "stock_data_gme.reset_index(inplace=True)\n",
    "print(\"Stock Data for GME (first 5 rows):\")\n",
    "print(stock_data_gme.head())"
   ]
  },
  {
   "cell_type": "markdown",
   "metadata": {},
   "source": [
    "Question 4 - Extracting GameStop Revenue Data Using Webscraping - 1 Points"
   ]
  },
  {
   "cell_type": "code",
   "execution_count": 4,
   "metadata": {},
   "outputs": [
    {
     "name": "stdout",
     "output_type": "stream",
     "text": [
      "Total rows scraped: 16\n",
      "    Date Revenue\n",
      "11  2009  $8,806\n",
      "12  2008  $7,094\n",
      "13  2007  $5,319\n",
      "14  2006  $3,092\n",
      "15  2005  $1,843\n"
     ]
    }
   ],
   "source": [
    "url = \"https://cf-courses-data.s3.us.cloud-object-storage.appdomain.cloud/IBMDeveloperSkillsNetwork-PY0220EN-SkillsNetwork/labs/project/stock.html\"\n",
    "html_data = requests.get(url).text\n",
    "soup = BeautifulSoup(html_data, 'html.parser')\n",
    "columns = [\"Date\", \"Revenue\"]\n",
    "gamestop_data = pd.DataFrame(columns=columns)\n",
    "table = soup.find(\"table\")\n",
    "rows = table.find_all(\"tr\") \n",
    "for row in rows:\n",
    "    cols = row.find_all(\"td\")\n",
    "    if len(cols) == 2:\n",
    "        data = {\n",
    "            \"Date\": cols[0].text.strip(),\n",
    "            \"Revenue\": cols[1].text.strip()\n",
    "        }\n",
    "        gamestop_data = pd.concat([gamestop_data, pd.DataFrame([data])], ignore_index=True)\n",
    "print(f\"Total rows scraped: {len(gamestop_data)}\")\n",
    "print(gamestop_data.tail())"
   ]
  },
  {
   "cell_type": "markdown",
   "metadata": {},
   "source": [
    "Question 5 - Tesla Stock and Revenue Dashboard - 2 Points"
   ]
  },
  {
   "cell_type": "code",
   "execution_count": 5,
   "metadata": {},
   "outputs": [],
   "source": [
    "def make_graph(stock_df, revenue_df, title, start_date, end_date, color_stock, color_revenue):\n",
    "    revenue_df[\"Date\"] = pd.to_datetime(revenue_df[\"Date\"])\n",
    "    revenue_df[\"Revenue\"] = revenue_df[\"Revenue\"].str.replace(r\"[\\$,]\", \"\", regex=True).astype(float)\n",
    "    stock_df[\"Date\"] = pd.to_datetime(stock_df[\"Date\"])\n",
    "    stock_df = stock_df[[\"Date\", \"Close\"]]\n",
    "    stock_filtered = stock_df[(stock_df[\"Date\"] >= start_date) & (stock_df[\"Date\"] <= end_date)]\n",
    "    revenue_filtered = revenue_df[(revenue_df[\"Date\"] >= start_date) & (revenue_df[\"Date\"] <= end_date)]\n",
    "\n",
    "    fig = make_subplots(\n",
    "        rows=2, cols=1,\n",
    "        shared_xaxes=True,\n",
    "        vertical_spacing=0.15,\n",
    "        subplot_titles=(f\"{title} Stock Price\", f\"{title} Revenue\")\n",
    "    )\n",
    "\n",
    "    fig.add_trace(\n",
    "        go.Scatter(\n",
    "            x=stock_filtered[\"Date\"],\n",
    "            y=stock_filtered[\"Close\"],\n",
    "            name=\"Stock Price\",\n",
    "            mode=\"lines\",\n",
    "            line=dict(color=color_stock)\n",
    "        ),\n",
    "        row=1, col=1\n",
    "    )\n",
    "\n",
    "    fig.add_trace(\n",
    "        go.Scatter(\n",
    "            x=revenue_filtered[\"Date\"],\n",
    "            y=revenue_filtered[\"Revenue\"],\n",
    "            name=\"Revenue\",\n",
    "            mode=\"lines+markers\",\n",
    "            line=dict(color=color_revenue)\n",
    "        ),\n",
    "        row=2, col=1\n",
    "    )\n",
    "\n",
    "    fig.update_layout(\n",
    "        height=800,\n",
    "        title_text=f\"{title} Stock and Revenue Dashboard\",\n",
    "        xaxis=dict(range=[start_date, end_date]),\n",
    "        xaxis2=dict(range=[start_date, end_date]),\n",
    "        xaxis_rangeslider_visible=True,\n",
    "        showlegend=False\n",
    "    )\n",
    "\n",
    "    fig.update_yaxes(title_text=\"Stock Price ($)\", row=1, col=1)\n",
    "    fig.update_yaxes(title_text=\"Revenue ($)\", row=2, col=1)\n",
    "\n",
    "    fig.show()\n",
    "\n",
    "make_graph(stock_data, tesla_data, \"Tesla\", \"2009-01-01\", \"2021-12-31\", \"blue\", \"green\")"
   ]
  },
  {
   "cell_type": "markdown",
   "metadata": {},
   "source": [
    "Question 6 - GameStop Stock and Revenue Dashboard - 2 Points"
   ]
  },
  {
   "cell_type": "code",
   "execution_count": 6,
   "metadata": {},
   "outputs": [],
   "source": [
    "make_graph(stock_data_gme, gamestop_data, \"GameStop\", \"2005-01-01\", \"2021-12-31\", \"darkred\", \"darkgreen\")\n"
   ]
  }
 ],
 "metadata": {
  "kernelspec": {
   "display_name": "base",
   "language": "python",
   "name": "python3"
  },
  "language_info": {
   "codemirror_mode": {
    "name": "ipython",
    "version": 3
   },
   "file_extension": ".py",
   "mimetype": "text/x-python",
   "name": "python",
   "nbconvert_exporter": "python",
   "pygments_lexer": "ipython3",
   "version": "3.12.7"
  }
 },
 "nbformat": 4,
 "nbformat_minor": 2
}
